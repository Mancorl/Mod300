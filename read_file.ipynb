{
 "cells": [
  {
   "cell_type": "code",
   "execution_count": null,
   "id": "initial_id",
   "metadata": {
    "collapsed": true
   },
   "outputs": [],
   "source": [
    "def read_file(file_path):\n",
    "    x = [0]\n",
    "    y_total = [0]\n",
    "    y = [0]\n",
    "    l = 0\n",
    "    with open(file_path, \"r\") as f:\n",
    "        next(f) #hopper over første lingje\n",
    "        for line in f:\n",
    "            parts = line.strip().split(\"\\t\")\n",
    "            if len(parts) == 3:\n",
    "                l = l + 1\n",
    "                days = int(parts[1])\n",
    "                cases = int(parts[2])\n",
    "                x.append(days)\n",
    "                y_total.append(y_total[l-1]+cases)\n",
    "                y.append(cases)\n",
    "    return np.array([x,y_total,y])\n",
    "\n",
    "\n",
    "Z0 = 1\n",
    "S0 = N - Z0\n",
    "E0 = 0\n",
    "R0 = beta/(alfa +w_t)\n",
    "c0= np.array([S0,E0,Z0,R0])\n",
    "gamma = 1/7\n",
    "sigma = 1/9.7\n",
    "N = 10e7\n",
    "\n",
    "\n",
    "T_probabilety = 50\n",
    "porsent = 60\n",
    "#landa = -1*np.log(porsent/100)/T_probabilety\n",
    "landa = 500\n",
    "beta_0 = 20\n",
    "\n",
    "\n",
    "file_path = \"ebola_cases_guinea.dat\"\n",
    "x_f,y_f,_ = read_file(file_path)\n",
    "t,Z = ode_solver_adaptiv(0, t_final, c0, eps,  rhs_SDZR_EBOLA,'RK4', np.array([beta_0,sigma,gamma,N,landa]))\n",
    "\n",
    "plt.plot(t,Z[:,2],'-*', label=\"modelering\")\n",
    "plt.plot(x_f,y_f,'-*', label=\"fusjon\")\n",
    "#plt.ylim(-5,10)\n",
    "plt.legend()\n",
    "plt.grid()"
   ]
  }
 ],
 "metadata": {
  "kernelspec": {
   "display_name": "Python 3",
   "language": "python",
   "name": "python3"
  },
  "language_info": {
   "codemirror_mode": {
    "name": "ipython",
    "version": 2
   },
   "file_extension": ".py",
   "mimetype": "text/x-python",
   "name": "python",
   "nbconvert_exporter": "python",
   "pygments_lexer": "ipython2",
   "version": "2.7.6"
  }
 },
 "nbformat": 4,
 "nbformat_minor": 5
}
